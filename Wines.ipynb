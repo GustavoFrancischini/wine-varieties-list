{
 "cells": [
  {
   "cell_type": "code",
   "execution_count": 4,
   "id": "688347c7",
   "metadata": {},
   "outputs": [],
   "source": [
    "import pandas as pd\n",
    "\n",
    "url = 'https://raw.githubusercontent.com/rafaelpuyau/infinity_school/main/ds/datasets/wines.csv'\n",
    "\n",
    "df = pd.read_csv(url)\n"
   ]
  },
  {
   "cell_type": "code",
   "execution_count": null,
   "id": "bff189cd",
   "metadata": {},
   "outputs": [],
   "source": []
  },
  {
   "cell_type": "code",
   "execution_count": 6,
   "id": "38067d27",
   "metadata": {},
   "outputs": [],
   "source": [
    "# The price of the most expensive wine\n",
    "price_expensive_wine = df.price.max()"
   ]
  },
  {
   "cell_type": "code",
   "execution_count": 3,
   "id": "df54c659",
   "metadata": {},
   "outputs": [],
   "source": [
    "# The price of the cheapest wine\n",
    "price_cheapest_wine = df.price.min()"
   ]
  },
  {
   "cell_type": "code",
   "execution_count": 16,
   "id": "44607c94",
   "metadata": {},
   "outputs": [],
   "source": [
    "# The label of the most expensive wine\n",
    "label_expensive_wine = df[['label', 'price']].groupby('label').max().sort_values('price', ascending=False).head(1)"
   ]
  },
  {
   "cell_type": "code",
   "execution_count": null,
   "id": "57bc7ede",
   "metadata": {},
   "outputs": [],
   "source": [
    "# The label of te cheapest wine\n",
    "label_expensive_wine = df[['label', 'price']].groupby('label').min().sort_values('price', ascending=True).head(1)"
   ]
  }
 ],
 "metadata": {
  "kernelspec": {
   "display_name": "Python 3 (ipykernel)",
   "language": "python",
   "name": "python3"
  },
  "language_info": {
   "codemirror_mode": {
    "name": "ipython",
    "version": 3
   },
   "file_extension": ".py",
   "mimetype": "text/x-python",
   "name": "python",
   "nbconvert_exporter": "python",
   "pygments_lexer": "ipython3",
   "version": "3.11.4"
  }
 },
 "nbformat": 4,
 "nbformat_minor": 5
}
